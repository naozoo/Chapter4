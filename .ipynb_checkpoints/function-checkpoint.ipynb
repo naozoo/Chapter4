{
 "cells": [
  {
   "cell_type": "code",
   "execution_count": 1,
   "metadata": {},
   "outputs": [
    {
     "name": "stdout",
     "output_type": "stream",
     "text": [
      "5\n"
     ]
    }
   ],
   "source": [
    "#関数の定義\n",
    "def add_2params(a, b):\n",
    "    \"\"\"2つの入力a, bの和を求める\"\"\"\n",
    "    return a + b\n",
    "\n",
    "#関数の呼び出しと表示\n",
    "c = add_2params(2, 3)\n",
    "print(c)"
   ]
  },
  {
   "cell_type": "code",
   "execution_count": 2,
   "metadata": {},
   "outputs": [],
   "source": [
    "?add_2params"
   ]
  },
  {
   "cell_type": "code",
   "execution_count": 3,
   "metadata": {},
   "outputs": [
    {
     "name": "stdout",
     "output_type": "stream",
     "text": [
      "5\n"
     ]
    }
   ],
   "source": [
    "c = -5\n",
    "if (c < 0):\n",
    "    c = -c\n",
    "print(c)    "
   ]
  },
  {
   "cell_type": "code",
   "execution_count": 4,
   "metadata": {},
   "outputs": [
    {
     "name": "stdout",
     "output_type": "stream",
     "text": [
      "5\n"
     ]
    }
   ],
   "source": [
    "def absolute(x):\n",
    "    if (x < 0):\n",
    "        return (-x)\n",
    "    else:\n",
    "        return (x)\n",
    "c = -5\n",
    "c = absolute(c)\n",
    "print(c)"
   ]
  },
  {
   "cell_type": "code",
   "execution_count": 5,
   "metadata": {},
   "outputs": [
    {
     "name": "stdout",
     "output_type": "stream",
     "text": [
      "5 9\n"
     ]
    }
   ],
   "source": [
    "c = -5\n",
    "d = 9\n",
    "if (c < 0):\n",
    "    c = -c\n",
    "if (d < 0):\n",
    "    d = -d\n",
    "print(c,d)        "
   ]
  },
  {
   "cell_type": "code",
   "execution_count": 6,
   "metadata": {},
   "outputs": [
    {
     "name": "stdout",
     "output_type": "stream",
     "text": [
      "5 9\n"
     ]
    }
   ],
   "source": [
    "def absolute(x):\n",
    "    if (x < 0):\n",
    "        return (-x)\n",
    "    else:\n",
    "        return x\n",
    "c = -5\n",
    "d = 9\n",
    "c = absolute(c)\n",
    "d = absolute(d)\n",
    "print(c, d)"
   ]
  },
  {
   "cell_type": "code",
   "execution_count": 9,
   "metadata": {},
   "outputs": [
    {
     "data": {
      "text/plain": [
       "120"
      ]
     },
     "execution_count": 9,
     "metadata": {},
     "output_type": "execute_result"
    }
   ],
   "source": [
    "def fact1(n):\n",
    "    \"\"\"n!を求める\"\"\"\n",
    "    ans  = 1\n",
    "    for i in range(n):\n",
    "        ans = ans * (i+1)\n",
    "    return ans\n",
    "fact1(5)"
   ]
  },
  {
   "cell_type": "code",
   "execution_count": 10,
   "metadata": {},
   "outputs": [
    {
     "data": {
      "text/plain": [
       "120"
      ]
     },
     "execution_count": 10,
     "metadata": {},
     "output_type": "execute_result"
    }
   ],
   "source": [
    "def fact2(n):\n",
    "    \"\"\"n!を求める\"\"\"\n",
    "    if n == 1:\n",
    "        return 1\n",
    "    else:\n",
    "        return n * fact2(n-1)\n",
    "fact2(5)    "
   ]
  },
  {
   "cell_type": "code",
   "execution_count": null,
   "metadata": {},
   "outputs": [],
   "source": []
  }
 ],
 "metadata": {
  "kernelspec": {
   "display_name": "Python 3",
   "language": "python",
   "name": "python3"
  },
  "language_info": {
   "codemirror_mode": {
    "name": "ipython",
    "version": 3
   },
   "file_extension": ".py",
   "mimetype": "text/x-python",
   "name": "python",
   "nbconvert_exporter": "python",
   "pygments_lexer": "ipython3",
   "version": "3.6.4"
  }
 },
 "nbformat": 4,
 "nbformat_minor": 2
}
